{
  "cells": [
    {
      "cell_type": "markdown",
      "metadata": {
        "id": "3w554oi-nmJ2"
      },
      "source": [
        "# Creating the Training data"
      ]
    },
    {
      "cell_type": "markdown",
      "metadata": {
        "id": "f3Og_nbmIgND"
      },
      "source": [
        "## Getting the data"
      ]
    },
    {
      "cell_type": "markdown",
      "metadata": {
        "id": "t5nCGZ7YRYUi"
      },
      "source": [
        "The needed data to create the dataset will be a font files, to convert them in images using the pillow python module.\n",
        "\n",
        "The data was extracted form the repository **ar-browser-sudoku** (the reference of this project) by **atomic14**, which did a package with diferent fonts from **google fonts**.\n",
        "\n",
        "Whit this package will construct a dataset of diferent font digits to train a tensorflow model."
      ]
    },
    {
      "cell_type": "code",
      "execution_count": null,
      "metadata": {
        "colab": {
          "base_uri": "https://localhost:8080/"
        },
        "id": "3lyhONQAIojG",
        "outputId": "a93c6714-cd8f-4fee-a689-66c2c2176cf8"
      },
      "outputs": [
        {
          "output_type": "stream",
          "name": "stdout",
          "text": [
            "--2022-09-20 00:13:18--  https://github.com/atomic14/ar-browser-sudoku/raw/master/tensorflow/fonts/google.zip\n",
            "Resolving github.com (github.com)... 140.82.114.3\n",
            "Connecting to github.com (github.com)|140.82.114.3|:443... connected.\n",
            "HTTP request sent, awaiting response... 302 Found\n",
            "Location: https://raw.githubusercontent.com/atomic14/ar-browser-sudoku/master/tensorflow/fonts/google.zip [following]\n",
            "--2022-09-20 00:13:18--  https://raw.githubusercontent.com/atomic14/ar-browser-sudoku/master/tensorflow/fonts/google.zip\n",
            "Resolving raw.githubusercontent.com (raw.githubusercontent.com)... 185.199.108.133, 185.199.109.133, 185.199.110.133, ...\n",
            "Connecting to raw.githubusercontent.com (raw.githubusercontent.com)|185.199.108.133|:443... connected.\n",
            "HTTP request sent, awaiting response... 200 OK\n",
            "Length: 35090283 (33M) [application/zip]\n",
            "Saving to: ‘google.zip’\n",
            "\n",
            "google.zip          100%[===================>]  33.46M   177MB/s    in 0.2s    \n",
            "\n",
            "2022-09-20 00:13:19 (177 MB/s) - ‘google.zip’ saved [35090283/35090283]\n",
            "\n"
          ]
        }
      ],
      "source": [
        "! wget https://github.com/atomic14/ar-browser-sudoku/raw/master/tensorflow/fonts/google.zip"
      ]
    },
    {
      "cell_type": "code",
      "execution_count": null,
      "metadata": {
        "id": "Y4i37KkJOniK"
      },
      "outputs": [],
      "source": [
        "! mkdir fonts\n",
        "! unzip -qq google.zip -d fonts \n",
        "! find -type f -name \"*.ttf\" > fonts/font_list.txt"
      ]
    },
    {
      "cell_type": "markdown",
      "metadata": {
        "id": "ZfpGGKlUIo6V"
      },
      "source": [
        "## Libraries"
      ]
    },
    {
      "cell_type": "code",
      "execution_count": null,
      "metadata": {
        "colab": {
          "base_uri": "https://localhost:8080/"
        },
        "id": "Mil4xTyjaM-2",
        "outputId": "69f4fc87-0b46-4dc7-9abd-5662b3f493c9"
      },
      "outputs": [
        {
          "output_type": "stream",
          "name": "stdout",
          "text": [
            "Looking in indexes: https://pypi.org/simple, https://us-python.pkg.dev/colab-wheels/public/simple/\n",
            "Collecting fontTools\n",
            "  Downloading fonttools-4.37.2-py3-none-any.whl (959 kB)\n",
            "\u001b[K     |████████████████████████████████| 959 kB 5.3 MB/s \n",
            "\u001b[?25hInstalling collected packages: fontTools\n",
            "Successfully installed fontTools-4.37.2\n"
          ]
        }
      ],
      "source": [
        "! pip install fontTools"
      ]
    },
    {
      "cell_type": "code",
      "execution_count": null,
      "metadata": {
        "id": "pVqRSfUFnXVw"
      },
      "outputs": [],
      "source": [
        "from PIL import Image, ImageDraw, ImageFont, ImageFilter, ImageChops\n",
        "import pandas as pd\n",
        "import numpy as np\n",
        "from traitlets.config.application import functools\n",
        "import matplotlib.pyplot as plt\n",
        "import pathlib\n",
        "import os\n",
        "from fontTools.ttLib import TTFont"
      ]
    },
    {
      "cell_type": "markdown",
      "metadata": {
        "id": "W4jtcr0gr2h0"
      },
      "source": [
        "## Constant values"
      ]
    },
    {
      "cell_type": "code",
      "execution_count": null,
      "metadata": {
        "id": "H2VejHSxqDpk"
      },
      "outputs": [],
      "source": [
        "IMG_DIM = 128\n",
        "FONT_DIRECTORY = '/fonts'\n",
        "FONT_COLOR = (255, 255, 255)\n",
        "CHARACTERS = [str(x) for x in range(1,10)]\n",
        "TRAIN_PATH = 'dataset/train'\n",
        "TEST_PATH = 'dataset/test'\n",
        "FONT_BLACKLIST = [\n",
        "    '#',\n",
        "    \"italic\",\n",
        "    \"Italic\",\n",
        "    \"VAZTEK\",\n",
        "    \"antique\",\n",
        "    \"aztek\",\n",
        "    \"RosewoodStd-Regular\",\n",
        "    \"ShishoniBrush\",\n",
        "    \"VAVOI\",\n",
        "    \"seguili\",\n",
        "    'UVNThayGiaoNang_I',\n",
        "    'VAVOBI',\n",
        "    'VNI-Nhatban',\n",
        "    'VNI-Script',\n",
        "    'VNI-Trung Kien',\n",
        "    'segoeuii.ttf',\n",
        "    'VNI-Viettay',\n",
        "    'Brush',\n",
        "    'VREDROCK',\n",
        "    'UVNHaiBaTrung',\n",
        "    'UVNButLong',\n",
        "    'AmaticSC',\n",
        "    'UVNMucCham',\n",
        "    'UVNThayGiao_BI.TTF',\n",
        "    'VKUN',\n",
        "    'segoeuiz.ttf',\n",
        "    'seguibli.ttf',\n",
        "    'MyriadPro',\n",
        "    'Lobster-Regular',\n",
        "    'Bangers-Regular',\n",
        "    'VNI',\n",
        "    'VUSALI.TTF',\n",
        "    'VPEINOT.TTF',\n",
        "    'UVNSangSong_R',\n",
        "    'VDURHAM.TTF',\n",
        "    'Vnhltfap.ttf',\n",
        "    'UVNVienDu',\n",
        "    'UVNBucThu',\n",
        "    'UVNSangSong',\n",
        "    'VSCRIPT',\n",
        "    'VAUCHON',\n",
        "    'Vnthfap3',\n",
        "    'VCAMPAI',\n",
        "    'BungeeOutline',\n",
        "    'VBROADW',\n",
        "    'BungeeHairline-Regular',\n",
        "    'UVNMinhMap',\n",
        "    'scripti',\n",
        "    'UVN',\n",
        "    'brushsbi',\n",
        "    'Montserrat',\n",
        "    'VHELVCI.TTF',\n",
        "    'VFREE',\n",
        "    'BRUSH'\n",
        "    'seguis'\n",
        "    'VSLOGAN.TTF']"
      ]
    },
    {
      "cell_type": "markdown",
      "metadata": {
        "id": "7d687pqZX2VA"
      },
      "source": [
        "## Getting the route of the needed fonts"
      ]
    },
    {
      "cell_type": "code",
      "execution_count": null,
      "metadata": {
        "id": "l2Rk8U92TQxC"
      },
      "outputs": [],
      "source": [
        "def support_digits(font) -> bool :\n",
        "    font = TTFont(font)\n",
        "    ascii_codes = [ord(i) for i in CHARACTERS]\n",
        "    for table in font['cmap'].tables:\n",
        "        for o in ascii_codes:\n",
        "            if not o in table.cmap.keys():\n",
        "                return False\n",
        "    return True\n",
        "\n",
        "def isnt_blacklist(font) -> bool:\n",
        "    return all( map(lambda x: not x in font, FONT_BLACKLIST) )"
      ]
    },
    {
      "cell_type": "markdown",
      "metadata": {
        "id": "ENfcjxjcs9Nt"
      },
      "source": [
        "## Function to create a image with a chcaracter"
      ]
    },
    {
      "cell_type": "code",
      "execution_count": null,
      "metadata": {
        "id": "e6GLfmQotGVX"
      },
      "outputs": [],
      "source": [
        "def name_file(font_path: str, character) -> str :\n",
        "    return f'{font_path.split(\"/\")[-1][:-4]}{character}'\n",
        "\n",
        "def create_image(character: str, font_path: str, destiny_path: str) -> None:\n",
        "    img = Image.new( mode='RGB', size=(IMG_DIM, IMG_DIM))\n",
        "    draw = ImageDraw.Draw(img)\n",
        "    font = ImageFont.truetype(font_path, IMG_DIM // 2)\n",
        "    w, h = draw.textsize(character, font=font)\n",
        "    draw.text( ( (IMG_DIM - w) // 2, (IMG_DIM - h) // 2 ), character, fill=FONT_COLOR, font=font )\n",
        "    blurred_img = img.filter( filter=ImageFilter.BoxBlur(1) )\n",
        "\n",
        "    # Getting centered image\n",
        "    left, top, right, bottom = IMG_DIM, IMG_DIM, 0, 0\n",
        "    pixels = img.load()\n",
        "    for row in range( img.size[0] ):\n",
        "        for col in range( img.size[1] ):\n",
        "            if pixels[row, col]:\n",
        "                left = min(col, left)\n",
        "                top = min(row, top)\n",
        "                right = max(col, right)\n",
        "                bottom = max(row, bottom)\n",
        "\n",
        "    width = right - left + 4\n",
        "    height = bottom - top + 4\n",
        "    x = (left + right)/2\n",
        "    y = (top + bottom)/2\n",
        "\n",
        "    character_image = blurred_img.crop((x - width/2, y-height/2, x + width/2, y+height/2))\n",
        "\n",
        "    file_name = name_file(font_path, character)\n",
        "    pathlib.Path(f'{destiny_path}/').mkdir(parents=True, exist_ok=True)\n",
        "    character_image.save(f'{destiny_path}/{file_name}.png')"
      ]
    },
    {
      "cell_type": "code",
      "execution_count": null,
      "metadata": {
        "id": "wDMI1YHOKLBK"
      },
      "outputs": [],
      "source": [
        "with open('fonts/font_list.txt', 'r') as fonts:\n",
        "    can_use = lambda f: (support_digits(f) and isnt_blacklist(f))\n",
        "    cont = 0\n",
        "    for font in fonts:\n",
        "        font = font[2:-1]   # Skipping characters like relative path origin and line skipping.\n",
        "        if can_use(font):\n",
        "            for character in CHARACTERS:\n",
        "                destiny_path = f'{TEST_PATH if not(cont % 10) else TRAIN_PATH }/{character}'\n",
        "                create_image(character, font, destiny_path)\n",
        "                cont += 1"
      ]
    },
    {
      "cell_type": "markdown",
      "metadata": {
        "id": "-26RxGXEzgQT"
      },
      "source": [
        "----\n",
        "# ML Model\n",
        "\n",
        "## Libraries\n"
      ]
    },
    {
      "cell_type": "code",
      "execution_count": null,
      "metadata": {
        "id": "SE7-1CQP0thw"
      },
      "outputs": [],
      "source": [
        "from keras.models import Sequential\n",
        "from keras.layers import Conv2D, Flatten, Dense, MaxPool2D\n",
        "from keras.preprocessing.image import ImageDataGenerator"
      ]
    },
    {
      "cell_type": "markdown",
      "metadata": {
        "id": "SocjlTVe2hCN"
      },
      "source": [
        "## Constants"
      ]
    },
    {
      "cell_type": "code",
      "execution_count": null,
      "metadata": {
        "id": "OmqZM8OG1Yye"
      },
      "outputs": [],
      "source": [
        "BATCH_SIZE = 32\n",
        "EPOCHS = 50\n"
      ]
    },
    {
      "cell_type": "markdown",
      "metadata": {
        "id": "lrifD8Dg4Hdo"
      },
      "source": [
        "## Data generators and data loading"
      ]
    },
    {
      "cell_type": "code",
      "execution_count": null,
      "metadata": {
        "colab": {
          "base_uri": "https://localhost:8080/"
        },
        "id": "LhQm2SZ44Tcn",
        "outputId": "a23c408c-2607-4558-8f80-46b72398ceff"
      },
      "outputs": [
        {
          "output_type": "stream",
          "name": "stdout",
          "text": [
            "Found 2786 images belonging to 9 classes.\n",
            "Found 310 images belonging to 9 classes.\n"
          ]
        }
      ],
      "source": [
        "# Training image generator.\n",
        "train_image_generator = ImageDataGenerator(\n",
        "    rescale= 1./255,\n",
        "    shear_range= 0.2,\n",
        "    zoom_range= 0.2,\n",
        "    horizontal_flip= True,\n",
        "    validation_split= 0.2,\n",
        "    rotation_range= 2\n",
        ")\n",
        "\n",
        "# Test generator (in this case only apply the rescale and val. split).\n",
        "test_image_generator = ImageDataGenerator(\n",
        "    rescale= 1./255,\n",
        "    validation_split= 0.2\n",
        ")\n",
        "\n",
        "\n",
        "# Loading trainig data.\n",
        "train_set = train_image_generator.flow_from_directory(\n",
        "    directory='dataset/train',\n",
        "    color_mode='grayscale',\n",
        "    seed=14532,\n",
        "    target_size=(IMG_DIM, IMG_DIM),\n",
        "    batch_size=BATCH_SIZE,\n",
        "    class_mode='categorical'\n",
        ")\n",
        "# Loading test data.\n",
        "test_set = test_image_generator.flow_from_directory(\n",
        "    directory='dataset/test',\n",
        "    color_mode='grayscale',\n",
        "    seed=14532,\n",
        "    target_size=(IMG_DIM, IMG_DIM),\n",
        "    batch_size=BATCH_SIZE,\n",
        "    class_mode='categorical'\n",
        ")"
      ]
    },
    {
      "cell_type": "code",
      "execution_count": null,
      "metadata": {
        "colab": {
          "base_uri": "https://localhost:8080/",
          "height": 578
        },
        "id": "wqX2vPB-F-WE",
        "outputId": "fea8b521-0edc-485f-d56a-86345d65e625"
      },
      "outputs": [
        {
          "output_type": "display_data",
          "data": {
            "text/plain": [
              "<Figure size 720x720 with 25 Axes>"
            ],
            "image/png": "[encoded data removed]"
          },
          "metadata": {}
        }
      ],
      "source": [
        "sample_training_images, _ = next(train_set)\n",
        "plt.figure(figsize=(10,10))\n",
        "i = 0\n",
        "for train_img in sample_training_images[:25]:\n",
        "    plt.subplot(5,5,i+1)    # Posisción de la gráfica en la matriz\n",
        "    plt.xticks([])\n",
        "    plt.yticks([])\n",
        "    plt.grid(False)\n",
        "    plt.imshow(train_img.squeeze(axis=2))\n",
        "    i += 1"
      ]
    },
    {
      "cell_type": "markdown",
      "metadata": {
        "id": "tar88yZC9O1R"
      },
      "source": [
        "## Crating the model."
      ]
    },
    {
      "cell_type": "code",
      "execution_count": null,
      "metadata": {
        "id": "aZ8DEd1L-BB-"
      },
      "outputs": [],
      "source": [
        "model = Sequential([\n",
        "    Conv2D(16, (3,3), input_shape=(IMG_DIM,IMG_DIM,1), activation='relu'),\n",
        "    MaxPool2D(pool_size=(2,2)),\n",
        "    Flatten(),\n",
        "    Dense(50, activation='relu'),\n",
        "    Dense(9, activation='softmax')\n",
        "])"
      ]
    },
    {
      "cell_type": "markdown",
      "metadata": {
        "id": "Ee6buengCx2Z"
      },
      "source": [
        "## Compilling model"
      ]
    },
    {
      "cell_type": "code",
      "execution_count": null,
      "metadata": {
        "colab": {
          "base_uri": "https://localhost:8080/"
        },
        "id": "qMJo2JVYC4Tc",
        "outputId": "ef430ec1-8bbb-4206-ff15-604313a70adb"
      },
      "outputs": [
        {
          "output_type": "stream",
          "name": "stdout",
          "text": [
            "Model: \"sequential\"\n",
            "_________________________________________________________________\n",
            " Layer (type)                Output Shape              Param #   \n",
            "=================================================================\n",
            " conv2d (Conv2D)             (None, 126, 126, 16)      160       \n",
            "                                                                 \n",
            " max_pooling2d (MaxPooling2D  (None, 63, 63, 16)       0         \n",
            " )                                                               \n",
            "                                                                 \n",
            " flatten (Flatten)           (None, 63504)             0         \n",
            "                                                                 \n",
            " dense (Dense)               (None, 50)                3175250   \n",
            "                                                                 \n",
            " dense_1 (Dense)             (None, 9)                 459       \n",
            "                                                                 \n",
            "=================================================================\n",
            "Total params: 3,175,869\n",
            "Trainable params: 3,175,869\n",
            "Non-trainable params: 0\n",
            "_________________________________________________________________\n"
          ]
        }
      ],
      "source": [
        "model.compile(\n",
        "    optimizer='adam',\n",
        "    loss='binary_crossentropy',\n",
        "    metrics=['accuracy']\n",
        ")\n",
        "\n",
        "model.summary()"
      ]
    },
    {
      "cell_type": "markdown",
      "metadata": {
        "id": "pVJnHIdcDaca"
      },
      "source": [
        "## Training the model"
      ]
    },
    {
      "cell_type": "code",
      "execution_count": null,
      "metadata": {
        "colab": {
          "base_uri": "https://localhost:8080/"
        },
        "id": "2vno2xaPDom2",
        "outputId": "cca0c36f-3710-43e6-f8d4-a150dab5d0e9"
      },
      "outputs": [
        {
          "output_type": "stream",
          "name": "stderr",
          "text": [
            "/usr/local/lib/python3.7/dist-packages/ipykernel_launcher.py:6: UserWarning: `Model.fit_generator` is deprecated and will be removed in a future version. Please use `Model.fit`, which supports generators.\n",
            "  \n"
          ]
        },
        {
          "output_type": "stream",
          "name": "stdout",
          "text": [
            "Epoch 1/50\n",
            "88/88 [==============================] - 21s 232ms/step - loss: 0.2459 - accuracy: 0.5844 - val_loss: 0.1343 - val_accuracy: 0.8161\n",
            "Epoch 2/50\n",
            "88/88 [==============================] - 22s 248ms/step - loss: 0.1328 - accuracy: 0.8223 - val_loss: 0.0891 - val_accuracy: 0.9226\n",
            "Epoch 3/50\n",
            "88/88 [==============================] - 20s 231ms/step - loss: 0.1027 - accuracy: 0.8726 - val_loss: 0.0659 - val_accuracy: 0.9419\n",
            "Epoch 4/50\n",
            "88/88 [==============================] - 20s 230ms/step - loss: 0.0889 - accuracy: 0.8938 - val_loss: 0.0577 - val_accuracy: 0.9419\n",
            "Epoch 5/50\n",
            "88/88 [==============================] - 20s 231ms/step - loss: 0.0716 - accuracy: 0.9149 - val_loss: 0.0503 - val_accuracy: 0.9581\n",
            "Epoch 6/50\n",
            "88/88 [==============================] - 20s 228ms/step - loss: 0.0615 - accuracy: 0.9311 - val_loss: 0.0357 - val_accuracy: 0.9677\n",
            "Epoch 7/50\n",
            "88/88 [==============================] - 20s 227ms/step - loss: 0.0491 - accuracy: 0.9472 - val_loss: 0.0308 - val_accuracy: 0.9774\n",
            "Epoch 8/50\n",
            "88/88 [==============================] - 21s 243ms/step - loss: 0.0460 - accuracy: 0.9501 - val_loss: 0.0273 - val_accuracy: 0.9710\n",
            "Epoch 9/50\n",
            "88/88 [==============================] - 20s 225ms/step - loss: 0.0411 - accuracy: 0.9515 - val_loss: 0.0258 - val_accuracy: 0.9742\n",
            "Epoch 10/50\n",
            "88/88 [==============================] - 20s 225ms/step - loss: 0.0353 - accuracy: 0.9655 - val_loss: 0.0239 - val_accuracy: 0.9806\n",
            "Epoch 11/50\n",
            "88/88 [==============================] - 20s 225ms/step - loss: 0.0305 - accuracy: 0.9684 - val_loss: 0.0193 - val_accuracy: 0.9806\n",
            "Epoch 12/50\n",
            "88/88 [==============================] - 20s 225ms/step - loss: 0.0284 - accuracy: 0.9734 - val_loss: 0.0204 - val_accuracy: 0.9742\n",
            "Epoch 13/50\n",
            "88/88 [==============================] - 21s 240ms/step - loss: 0.0256 - accuracy: 0.9742 - val_loss: 0.0153 - val_accuracy: 0.9871\n",
            "Epoch 14/50\n",
            "88/88 [==============================] - 20s 224ms/step - loss: 0.0224 - accuracy: 0.9799 - val_loss: 0.0159 - val_accuracy: 0.9871\n",
            "Epoch 15/50\n",
            "88/88 [==============================] - 20s 225ms/step - loss: 0.0214 - accuracy: 0.9821 - val_loss: 0.0145 - val_accuracy: 0.9871\n",
            "Epoch 16/50\n",
            "88/88 [==============================] - 20s 224ms/step - loss: 0.0175 - accuracy: 0.9867 - val_loss: 0.0135 - val_accuracy: 0.9871\n",
            "Epoch 17/50\n",
            "88/88 [==============================] - 20s 225ms/step - loss: 0.0166 - accuracy: 0.9871 - val_loss: 0.0108 - val_accuracy: 0.9935\n",
            "Epoch 18/50\n",
            "88/88 [==============================] - 20s 225ms/step - loss: 0.0176 - accuracy: 0.9849 - val_loss: 0.0112 - val_accuracy: 0.9871\n",
            "Epoch 19/50\n",
            "88/88 [==============================] - 21s 240ms/step - loss: 0.0163 - accuracy: 0.9849 - val_loss: 0.0115 - val_accuracy: 0.9903\n",
            "Epoch 20/50\n",
            "88/88 [==============================] - 20s 224ms/step - loss: 0.0149 - accuracy: 0.9889 - val_loss: 0.0103 - val_accuracy: 0.9871\n",
            "Epoch 21/50\n",
            "88/88 [==============================] - 20s 225ms/step - loss: 0.0143 - accuracy: 0.9889 - val_loss: 0.0096 - val_accuracy: 0.9903\n",
            "Epoch 22/50\n",
            "88/88 [==============================] - 20s 225ms/step - loss: 0.0120 - accuracy: 0.9907 - val_loss: 0.0099 - val_accuracy: 0.9935\n",
            "Epoch 23/50\n",
            "88/88 [==============================] - 20s 225ms/step - loss: 0.0111 - accuracy: 0.9917 - val_loss: 0.0080 - val_accuracy: 0.9935\n",
            "Epoch 24/50\n",
            "88/88 [==============================] - 20s 224ms/step - loss: 0.0165 - accuracy: 0.9828 - val_loss: 0.0091 - val_accuracy: 0.9903\n",
            "Epoch 25/50\n",
            "88/88 [==============================] - 21s 241ms/step - loss: 0.0114 - accuracy: 0.9896 - val_loss: 0.0091 - val_accuracy: 0.9935\n",
            "Epoch 26/50\n",
            "88/88 [==============================] - 20s 225ms/step - loss: 0.0094 - accuracy: 0.9921 - val_loss: 0.0099 - val_accuracy: 0.9806\n",
            "Epoch 27/50\n",
            "88/88 [==============================] - 20s 225ms/step - loss: 0.0086 - accuracy: 0.9925 - val_loss: 0.0094 - val_accuracy: 0.9871\n",
            "Epoch 28/50\n",
            "88/88 [==============================] - 20s 225ms/step - loss: 0.0091 - accuracy: 0.9914 - val_loss: 0.0094 - val_accuracy: 0.9871\n",
            "Epoch 29/50\n",
            "88/88 [==============================] - 20s 227ms/step - loss: 0.0078 - accuracy: 0.9932 - val_loss: 0.0075 - val_accuracy: 0.9935\n",
            "Epoch 30/50\n",
            "88/88 [==============================] - 21s 241ms/step - loss: 0.0079 - accuracy: 0.9935 - val_loss: 0.0067 - val_accuracy: 0.9903\n",
            "Epoch 31/50\n",
            "88/88 [==============================] - 20s 229ms/step - loss: 0.0087 - accuracy: 0.9943 - val_loss: 0.0093 - val_accuracy: 0.9903\n",
            "Epoch 32/50\n",
            "88/88 [==============================] - 20s 225ms/step - loss: 0.0090 - accuracy: 0.9932 - val_loss: 0.0082 - val_accuracy: 0.9935\n",
            "Epoch 33/50\n",
            "88/88 [==============================] - 20s 225ms/step - loss: 0.0073 - accuracy: 0.9939 - val_loss: 0.0069 - val_accuracy: 0.9935\n",
            "Epoch 34/50\n",
            "88/88 [==============================] - 20s 224ms/step - loss: 0.0059 - accuracy: 0.9953 - val_loss: 0.0079 - val_accuracy: 0.9903\n",
            "Epoch 35/50\n",
            "88/88 [==============================] - 21s 240ms/step - loss: 0.0059 - accuracy: 0.9957 - val_loss: 0.0075 - val_accuracy: 0.9903\n",
            "Epoch 36/50\n",
            "88/88 [==============================] - 20s 226ms/step - loss: 0.0046 - accuracy: 0.9975 - val_loss: 0.0059 - val_accuracy: 0.9935\n",
            "Epoch 37/50\n",
            "88/88 [==============================] - 20s 226ms/step - loss: 0.0051 - accuracy: 0.9964 - val_loss: 0.0061 - val_accuracy: 0.9935\n",
            "Epoch 38/50\n",
            "88/88 [==============================] - 20s 228ms/step - loss: 0.0057 - accuracy: 0.9975 - val_loss: 0.0090 - val_accuracy: 0.9871\n",
            "Epoch 39/50\n",
            "88/88 [==============================] - 20s 228ms/step - loss: 0.0064 - accuracy: 0.9964 - val_loss: 0.0070 - val_accuracy: 0.9935\n",
            "Epoch 40/50\n",
            "88/88 [==============================] - 21s 243ms/step - loss: 0.0057 - accuracy: 0.9946 - val_loss: 0.0067 - val_accuracy: 0.9935\n",
            "Epoch 41/50\n",
            "88/88 [==============================] - 20s 226ms/step - loss: 0.0054 - accuracy: 0.9968 - val_loss: 0.0072 - val_accuracy: 0.9903\n",
            "Epoch 42/50\n",
            "88/88 [==============================] - 20s 228ms/step - loss: 0.0041 - accuracy: 0.9975 - val_loss: 0.0048 - val_accuracy: 0.9935\n",
            "Epoch 43/50\n",
            "88/88 [==============================] - 20s 226ms/step - loss: 0.0047 - accuracy: 0.9953 - val_loss: 0.0076 - val_accuracy: 0.9935\n",
            "Epoch 44/50\n",
            "88/88 [==============================] - 20s 228ms/step - loss: 0.0050 - accuracy: 0.9968 - val_loss: 0.0071 - val_accuracy: 0.9935\n",
            "Epoch 45/50\n",
            "88/88 [==============================] - 20s 226ms/step - loss: 0.0036 - accuracy: 0.9975 - val_loss: 0.0069 - val_accuracy: 0.9903\n",
            "Epoch 46/50\n",
            "88/88 [==============================] - 21s 243ms/step - loss: 0.0030 - accuracy: 0.9989 - val_loss: 0.0055 - val_accuracy: 0.9935\n",
            "Epoch 47/50\n",
            "88/88 [==============================] - 20s 231ms/step - loss: 0.0032 - accuracy: 0.9982 - val_loss: 0.0069 - val_accuracy: 0.9935\n",
            "Epoch 48/50\n",
            "88/88 [==============================] - 21s 233ms/step - loss: 0.0038 - accuracy: 0.9982 - val_loss: 0.0091 - val_accuracy: 0.9935\n",
            "Epoch 49/50\n",
            "88/88 [==============================] - 20s 229ms/step - loss: 0.0029 - accuracy: 0.9993 - val_loss: 0.0071 - val_accuracy: 0.9903\n",
            "Epoch 50/50\n",
            "88/88 [==============================] - 22s 246ms/step - loss: 0.0026 - accuracy: 0.9989 - val_loss: 0.0060 - val_accuracy: 0.9903\n"
          ]
        }
      ],
      "source": [
        "history = model.fit_generator(\n",
        "    train_set,\n",
        "    epochs=EPOCHS,\n",
        "    steps_per_epoch=len(train_set),\n",
        "    validation_data=test_set,\n",
        "    validation_steps=len(test_set)\n",
        ")"
      ]
    }
  ],
  "metadata": {
    "colab": {
      "collapsed_sections": [],
      "provenance": []
    },
    "kernelspec": {
      "display_name": "Python 3",
      "name": "python3"
    },
    "language_info": {
      "name": "python"
    }
  },
  "nbformat": 4,
  "nbformat_minor": 0
}